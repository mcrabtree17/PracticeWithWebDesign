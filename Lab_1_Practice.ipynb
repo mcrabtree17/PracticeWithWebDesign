{
  "nbformat": 4,
  "nbformat_minor": 0,
  "metadata": {
    "colab": {
      "name": "Lab 1 Practice.ipynb",
      "provenance": [],
      "authorship_tag": "ABX9TyOC9QSlo/e1iqnXfUlZ5DEQ",
      "include_colab_link": true
    },
    "kernelspec": {
      "name": "python3",
      "display_name": "Python 3"
    }
  },
  "cells": [
    {
      "cell_type": "markdown",
      "metadata": {
        "id": "view-in-github",
        "colab_type": "text"
      },
      "source": [
        "<a href=\"https://colab.research.google.com/github/mcrabtree17/PracticeWithWebDesign/blob/master/Lab_1_Practice.ipynb\" target=\"_parent\"><img src=\"https://colab.research.google.com/assets/colab-badge.svg\" alt=\"Open In Colab\"/></a>"
      ]
    },
    {
      "cell_type": "markdown",
      "metadata": {
        "id": "3UOGojpTu9lo",
        "colab_type": "text"
      },
      "source": [
        "###Do you like using Jupyter Notebooks?\n"
      ]
    },
    {
      "cell_type": "markdown",
      "metadata": {
        "id": "8gg6_GCSvKWo",
        "colab_type": "text"
      },
      "source": [
        "This is my answer. \n"
      ]
    },
    {
      "cell_type": "markdown",
      "metadata": {
        "id": "ASlfzGtRvTTO",
        "colab_type": "text"
      },
      "source": [
        "###What do you want to learn more about in Jupyter Notebooks?\n"
      ]
    },
    {
      "cell_type": "markdown",
      "metadata": {
        "id": "sGUxKIeQvjBV",
        "colab_type": "text"
      },
      "source": [
        "This is my second answer."
      ]
    },
    {
      "cell_type": "markdown",
      "metadata": {
        "id": "d3XEYP2uvk9s",
        "colab_type": "text"
      },
      "source": [
        "![Flower Bouquet](https://raw.githubusercontent.com/mcrabtree17/PracticeWithWebDesign/master/Images/6B8DE6A6-3167-465E-9F06-AC5F24B01F83.jpeg)"
      ]
    }
  ]
}