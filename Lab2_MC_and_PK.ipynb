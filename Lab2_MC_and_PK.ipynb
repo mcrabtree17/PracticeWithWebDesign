{
  "nbformat": 4,
  "nbformat_minor": 0,
  "metadata": {
    "colab": {
      "name": " Lab2 MC and PK.ipynb",
      "provenance": [],
      "collapsed_sections": [],
      "include_colab_link": true
    },
    "kernelspec": {
      "name": "python3",
      "display_name": "Python 3"
    }
  },
  "cells": [
    {
      "cell_type": "markdown",
      "metadata": {
        "id": "view-in-github",
        "colab_type": "text"
      },
      "source": [
        "<a href=\"https://colab.research.google.com/github/mcrabtree17/PracticeWithWebDesign/blob/master/Lab2_MC_and_PK.ipynb\" target=\"_parent\"><img src=\"https://colab.research.google.com/assets/colab-badge.svg\" alt=\"Open In Colab\"/></a>"
      ]
    },
    {
      "cell_type": "markdown",
      "metadata": {
        "id": "6JgrRYtyWUTc",
        "colab_type": "text"
      },
      "source": [
        "# Ten Usability Heuristics\n",
        "\n",
        "### Developed by Jakob Nielsen"
      ]
    },
    {
      "cell_type": "markdown",
      "metadata": {
        "id": "pf8BISoJnZLj",
        "colab_type": "text"
      },
      "source": [
        ""
      ]
    },
    {
      "cell_type": "markdown",
      "metadata": {
        "id": "ep30Q_iPWdnT",
        "colab_type": "text"
      },
      "source": [
        "For our lab, we will be evaluating the ten heuristics using the following webpage: \n",
        "\n",
        "- https://www.bmfitgear.com/\n"
      ]
    },
    {
      "cell_type": "markdown",
      "metadata": {
        "id": "p1w1Wmt5WuFD",
        "colab_type": "text"
      },
      "source": [
        "### Visibility of system status\n",
        "The system should always keep users informed about what is going on, through appropriate feedback within reasonable time.\n",
        "\n",
        "- insert a screen shot from the website (https://drive.google.com/file/d/1Z8rSauPgdmhkHCXkKAsjMTpiOElF9YxV/view?usp=sharing) \n",
        "\n",
        "\n",
        "\n",
        "It does adhere to the heuristic of visibility of system status because when you hove over the \"shop\" button it does a drop down thus, giving the user immediate feedback that it is working. Additionally, the upside down arrow signals to the user that there is supposed to be a drop down. "
      ]
    },
    {
      "cell_type": "markdown",
      "metadata": {
        "id": "gL-x1q02W1Vk",
        "colab_type": "text"
      },
      "source": [
        "### Match between system and the real world\n",
        "The system should speak the users' language, with words, phrases and concepts familiar to the user, rather than system-oriented terms. Follow real-world conventions, making information appear in a natural and logical order.\n",
        "\n",
        "- insert a screen shot from the website (https://drive.google.com/file/d/1X1fWn7c-oxuVew1YR3NdYFoLZj3_aYvP/view?usp=sharing) \n",
        "\n",
        "\n",
        "\n",
        "It does adhere to the heuristic of match between system and the real world through using the term \"add to cart\" when putting a product in the list to buy. The \"add item to cart\" matches the real world with idea of a shopping cart. This makes it very clear to the user what is occuring when he/she adds an item to his/her \"cart\". "
      ]
    },
    {
      "cell_type": "markdown",
      "metadata": {
        "id": "p9WB5-rtZd9I",
        "colab_type": "text"
      },
      "source": [
        "### User control and freedom\n",
        "Users often choose system functions by mistake and will need a clearly marked \"emergency exit\" to leave the unwanted state without having to go through an extended dialogue. Support undo and redo.\n",
        "\n",
        "- insert a screen shot from the website (https://drive.google.com/file/d/1GSW5KoeJfwTqiHuwj6CyC_NO3UXq9QTW/view?usp=sharing) \n",
        "\n",
        "\n",
        "When I think of this heuristic, I think of going to a website with a different language as their default and then at the top google asks me if I would like it translated. It's an easy way to keep me on the site while recognizing that I probably to understand the original language. For BMFIT Gear website, the best thing I found similar is when trying to log in. It gives the user the easy and quick option to create an account if he/she doesn't have one. The user doesn't have to search around the site to create an account. Additionally, the forgot password option is clear. \n",
        "\n"
      ]
    },
    {
      "cell_type": "markdown",
      "metadata": {
        "id": "lX7j0pZ8Zedg",
        "colab_type": "text"
      },
      "source": [
        "### Consistency and standards\n",
        "Users should not have to wonder whether different words, situations, or actions mean the same thing. Follow platform conventions.\n",
        "\n",
        "- insert a screen shot from the website (https://drive.google.com/file/d/1A3yJDw1XzR7JbB0qApGj2mYedJTB5wLO/view?usp=sharing) \n",
        "\n",
        "\n",
        "It does in a sense follow consistency and standards. It does for the \"shop\", \"contact us\", and \"gallery\" buttons. It doesn't necessarily do that for the \"join the squad\" button. The first three are intuitive as to what they mean while the last one isn't. It is pretty straight forward and consisten overall. "
      ]
    },
    {
      "cell_type": "markdown",
      "metadata": {
        "id": "ER6ArHdmZfSI",
        "colab_type": "text"
      },
      "source": [
        "### Error prevention\n",
        "Even better than good error messages is a careful design which prevents a problem from occurring in the first place. Either eliminate error-prone conditions or check for them and present users with a confirmation option before they commit to the action.\n",
        "\n",
        "- insert a screen shot from the website (https://drive.google.com/file/d/1fTQCOs6510yYjvtkH3_Y--3fQQaecUa_/view?usp=sharing) \n",
        "\n",
        "It does error prevention by making the \"continue to shipping\" button much bigger and bolder than the smaller \"return to cart\" button. The \"continue to shipping\" button is a larger font size and has a black background which make the button much bigger. This draws the attention of the user to the desired button of continuing in the buying process."
      ]
    },
    {
      "cell_type": "markdown",
      "metadata": {
        "id": "9M3cqXkLZf7B",
        "colab_type": "text"
      },
      "source": [
        "### Recognition rather than recall\n",
        "Error messages should be expressed in plain language (no codes), precisely indicate the problem, and constructively suggest a solution.\n",
        "\n",
        "- insert a screen shot from the website (https://drive.google.com/file/d/1KreUR28RkSzVrUzbuUTW43297oVET-bx/view?usp=sharing) \n",
        "\n",
        "\n",
        "The website doesn't necessarily do what I was looking for when thinking about this heuristic. I was looking for where instead of just offering a 404 not found that it would say something like, \"oh, it's not you it's me.\" type of statement. But, I couldn't get an error like 404 not found to occur. So instead, under \"search\" I began looking for a product that they probably don't sell to see what it would trigger. It nicely indicates that it couldn't find \"underwear\". But, it could do a better job in maybe saying, \" 'Underwear' can't be found but keep checking. You never know what we will drop.\" It would help the user truly understand that not only \"underwear\" can't be found but that they don't sell it. Additionally, it would be really good from a business side of things to spin it positively with checking back."
      ]
    },
    {
      "cell_type": "markdown",
      "metadata": {
        "id": "B4xOtXMWZgfp",
        "colab_type": "text"
      },
      "source": [
        "### Flexibility and efficiency of use \n",
        "Accelerators -- unseen by the novice user -- may often speed up the interaction for the expert user such that the system can cater to both inexperienced and experienced users. Allow users to tailor frequent actions.\n",
        "\n",
        "- insert a screen shot from the website (https://drive.google.com/file/d/1KEi3RG9WHEzG6azR05J60cXolk6WDbV2/view?usp=sharing) \n",
        "\n",
        "\n",
        "This website doesn't really add flexibility and ease of use for an \"expert\" user. It does offer at the top of the \"shop\" drop down the \"new drop\" button so that users who may already know that new merchandise was released they can quickly get to that page. Beyond that, it doesn't appear to have any additionally ways to streamline a buying process for an experienced user."
      ]
    },
    {
      "cell_type": "markdown",
      "metadata": {
        "id": "F968s-f-ZhGA",
        "colab_type": "text"
      },
      "source": [
        "### Aesthetic and minimalist design\n",
        "Dialogues should not contain information which is irrelevant or rarely needed. Every extra unit of information in a dialogue competes with the relevant units of information and diminishes their relative visibility.\n",
        "\n",
        "- insert a screen shot from the website (https://drive.google.com/file/d/1HADdrp0BdQ4n6dUSBNf3TzxHN_siN5FQ/view?usp=sharing) \n",
        "\n",
        "\n",
        "\n",
        "It does adhere to aesthetic and minimalistic design really nicely. At the checkout, it is clear where in the process the user is in paying for the items. It is clear there are 3 ways to pay in addition to manually typing in information. It is simple and clean with no extraneous things being added to the page."
      ]
    },
    {
      "cell_type": "markdown",
      "metadata": {
        "id": "WFtkqJ8wZhjx",
        "colab_type": "text"
      },
      "source": [
        "### Help users recognize, diagnose, and recover from errors\n",
        "Error messages should be expressed in plain language (no codes), precisely indicate the problem, and constructively suggest a solution.\n",
        "\n",
        "- insert a screen shot from the website (https://drive.google.com/file/d/1_-ZFnp7UgmKKImI8nZ72BzVRq2rjD3_m/view?usp=sharing) \n",
        "\n",
        "\n",
        "It adheres nicely to the help users recognize, diagnose, and recover from errors because the website indicated promptly that the promo code \"yoyoyo\" was not valid. Additionally, it indicated that the user would need to insert a valid code. A bad site would just have the promo code not work and the user would start trying to guess if it was their computer or internet problem. "
      ]
    },
    {
      "cell_type": "markdown",
      "metadata": {
        "id": "x8_uAFYHZifo",
        "colab_type": "text"
      },
      "source": [
        "### Help and documentation\n",
        "Even though it is better if the system can be used without documentation, it may be necessary to provide help and documentation. Any such information should be easy to search, focused on the user's task, list concrete steps to be carried out, and not be too large.\n",
        "\n",
        "- insert a screen shot from the website (https://drive.google.com/file/d/1SjAizOknKWfYY5WdBjerFyFyEOYUlMr1/view?usp=sharing) (https://drive.google.com/file/d/1zFTkO19ZPtCNQDlto8kq-AVN6kvGB958/view?usp=sharing)\n",
        "\n",
        "\n",
        "It doesn't adhere the best to the help and documentation heursistic. While they do offer a way to contact them directly from the \"contact us\" button, the company doesn't offer a way to search for a question under \"FAQ's\". Under the FAQ link, it's just a list of questions. It truly isn't the most user centric but they do offer to be contacted via phone. "
      ]
    }
  ]
}